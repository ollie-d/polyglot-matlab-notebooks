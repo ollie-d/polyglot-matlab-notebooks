{
 "cells": [
  {
   "cell_type": "code",
   "execution_count": 1,
   "id": "5f1b5f3a",
   "metadata": {
    "kernel": "SoS"
   },
   "outputs": [
    {
     "data": {
      "text/html": [
       "<table>\n",
       "            <tr>\n",
       "                <th>Subkernel</th>\n",
       "                <th>Kernel Name</th>\n",
       "                <th>Language</th>\n",
       "                <th>Language Module</th>\n",
       "                <th  style=\"text-align:left\">Interpreter</th>\n",
       "            </tr>        <tr>\n",
       "        <td>MATLAB</td>\n",
       "        <td><code>matlab</code></td>\n",
       "        <td>matlab</td>\n",
       "        <td><code>sos_matlab</code></td>\n",
       "        <td style=\"text-align:left\"><code>python</code></td>\n",
       "        </tr>        <tr>\n",
       "        <td>Python3</td>\n",
       "        <td><code>python3</code></td>\n",
       "        <td>python</td>\n",
       "        <td><code>sos_python</code></td>\n",
       "        <td style=\"text-align:left\"><code>C:/Users/H8801/miniconda3/envs/sos\\python.exe</code></td>\n",
       "        </tr>        <tr>\n",
       "        <td>R</td>\n",
       "        <td><code>ir</code></td>\n",
       "        <td>R</td>\n",
       "        <td><font style=\"color:red\">Unavailable</font></td>\n",
       "        <td style=\"text-align:left\"><code>R</code></td>\n",
       "        </tr>        <tr>\n",
       "        <td>SoS</td>\n",
       "        <td><code>sos</code></td>\n",
       "        <td>sos</td>\n",
       "        <td></td>\n",
       "        <td style=\"text-align:left\"><code>C:/Users/H8801/miniconda3/envs/sos\\python.exe</code></td>\n",
       "        </tr>        <tr>\n",
       "        <td>matlab_connect</td>\n",
       "        <td><code>matlab_connect</code></td>\n",
       "        <td>matlab</td>\n",
       "        <td><code>sos_matlab</code></td>\n",
       "        <td style=\"text-align:left\"><code>python</code></td>\n",
       "        </tr></table>"
      ]
     },
     "metadata": {},
     "output_type": "display_data"
    }
   ],
   "source": [
    "%use"
   ]
  },
  {
   "cell_type": "code",
   "execution_count": 4,
   "id": "0038d2b8",
   "metadata": {
    "kernel": "SoS"
   },
   "outputs": [
    {
     "data": {
      "text/html": [
       "<table>\n",
       "            <tr>\n",
       "                <th>Subkernel</th>\n",
       "                <th>Kernel Name</th>\n",
       "                <th>Language</th>\n",
       "                <th>Language Module</th>\n",
       "                <th  style=\"text-align:left\">Interpreter</th>\n",
       "            </tr>        <tr>\n",
       "        <td>MATLAB</td>\n",
       "        <td><code>matlab</code></td>\n",
       "        <td>matlab</td>\n",
       "        <td><code>sos_matlab</code></td>\n",
       "        <td style=\"text-align:left\"><code>python</code></td>\n",
       "        </tr>        <tr>\n",
       "        <td>Python3</td>\n",
       "        <td><code>python3</code></td>\n",
       "        <td>python</td>\n",
       "        <td><code>sos_python</code></td>\n",
       "        <td style=\"text-align:left\"><code>C:/Users/H8801/miniconda3/envs/sos\\python.exe</code></td>\n",
       "        </tr>        <tr>\n",
       "        <td>R</td>\n",
       "        <td><code>ir</code></td>\n",
       "        <td>R</td>\n",
       "        <td><font style=\"color:red\">Unavailable</font></td>\n",
       "        <td style=\"text-align:left\"><code>R</code></td>\n",
       "        </tr>        <tr>\n",
       "        <td>SoS</td>\n",
       "        <td><code>sos</code></td>\n",
       "        <td>sos</td>\n",
       "        <td></td>\n",
       "        <td style=\"text-align:left\"><code>C:/Users/H8801/miniconda3/envs/sos\\python.exe</code></td>\n",
       "        </tr>        <tr>\n",
       "        <td>matlab_connect</td>\n",
       "        <td><code>matlab_connect</code></td>\n",
       "        <td>matlab</td>\n",
       "        <td><code>sos_matlab</code></td>\n",
       "        <td style=\"text-align:left\"><code>python</code></td>\n",
       "        </tr></table>"
      ]
     },
     "metadata": {},
     "output_type": "display_data"
    }
   ],
   "source": [
    "conda install sos sos-pbs -c conda-forge"
   ]
  }
 ],
 "metadata": {
  "kernelspec": {
   "display_name": "SoS",
   "language": "sos",
   "name": "sos"
  },
  "language_info": {
   "codemirror_mode": "sos",
   "file_extension": ".sos",
   "mimetype": "text/x-sos",
   "name": "sos",
   "nbconvert_exporter": "sos_notebook.converter.SoS_Exporter",
   "pygments_lexer": "sos"
  },
  "sos": {
   "kernels": [],
   "panel": {
    "displayed": true,
    "height": 0
   },
   "version": "0.24.0"
  }
 },
 "nbformat": 4,
 "nbformat_minor": 5
}
