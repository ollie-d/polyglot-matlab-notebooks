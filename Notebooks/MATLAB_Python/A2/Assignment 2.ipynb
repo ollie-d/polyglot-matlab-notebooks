{
 "cells": [
  {
   "cell_type": "markdown",
   "id": "9a5395d9",
   "metadata": {
    "kernel": "SoS"
   },
   "source": [
    "# Assignment 2\n",
    "## COGS 189: Brain Computer Interfaces\n",
    "## Winter 23, Instructor: Alessandro D'Amico\n",
    "### Due Date: 29Jan2023\n",
    "***\n",
    "The main purpose of this assignment is to guide you through navigating EEGLAB. We will load data, filter data and plot our results. Throughout this assignment, you will be asked questions. These questions will be answered with the accompanying Gradescope assignment. This assignment was created in a way that you should answer each question as it is presented to you. Please do not forget to submit every answer independently within Gradescope to ensure you do not lose any of your work."
   ]
  },
  {
   "cell_type": "markdown",
   "id": "09248c9b",
   "metadata": {
    "kernel": "MATLAB"
   },
   "source": [
    "## Install EEGLAB\n",
    "We only need to do this one time, but let's install EEGLAB. Execute the following line of code:"
   ]
  },
  {
   "cell_type": "code",
   "execution_count": 1,
   "id": "ea1b40e2",
   "metadata": {
    "kernel": "SoS"
   },
   "outputs": [
    {
     "name": "stdout",
     "output_type": "stream",
     "text": [
      "Cloning into 'eeglab'...\n",
      "remote: Enumerating objects: 831, done.\u001b[K\n",
      "remote: Counting objects: 100% (831/831), done.\u001b[K\n",
      "remote: Compressing objects: 100% (689/689), done.\u001b[K\n",
      "remote: Total 831 (delta 168), reused 618 (delta 126), pack-reused 0\u001b[K\n",
      "Receiving objects: 100% (831/831), 25.08 MiB | 2.42 MiB/s, done.\n",
      "Resolving deltas: 100% (168/168), done.\n",
      "Updating files: 100% (818/818), done.\n",
      "Submodule 'plugins/ICLabel' (https://github.com/sccn/ICLabel) registered for path 'plugins/ICLabel'\n",
      "Submodule 'plugins/clean_rawdata' (https://github.com/sccn/clean_rawdata.git) registered for path 'plugins/clean_rawdata'\n",
      "Submodule 'plugins/dipfit' (https://github.com/sccn/dipfit.git) registered for path 'plugins/dipfit'\n",
      "Submodule 'plugins/firfilt' (https://github.com/sccn/firfilt) registered for path 'plugins/firfilt'\n",
      "Submodule 'tutorial_scripts' (https://github.com/sccn/eeglab_tutorial_scripts.git) registered for path 'tutorial_scripts'\n",
      "Cloning into '/home/adamico/cogs189wi23_fork/A2/eeglab/plugins/ICLabel'...\n",
      "remote: Enumerating objects: 292, done.        \n",
      "remote: Counting objects: 100% (67/67), done.        \n",
      "remote: Compressing objects: 100% (55/55), done.        \n",
      "remote: Total 292 (delta 35), reused 29 (delta 12), pack-reused 225        \n",
      "Receiving objects: 100% (292/292), 33.73 MiB | 2.40 MiB/s, done.\n",
      "Resolving deltas: 100% (175/175), done.\n",
      "Cloning into '/home/adamico/cogs189wi23_fork/A2/eeglab/plugins/clean_rawdata'...\n",
      "remote: Enumerating objects: 349, done.        \n",
      "remote: Counting objects: 100% (171/171), done.        \n",
      "remote: Compressing objects: 100% (120/120), done.        \n",
      "remote: Total 349 (delta 102), reused 101 (delta 50), pack-reused 178        \n",
      "Receiving objects: 100% (349/349), 808.67 KiB | 2.98 MiB/s, done.\n",
      "Resolving deltas: 100% (207/207), done.\n",
      "Cloning into '/home/adamico/cogs189wi23_fork/A2/eeglab/plugins/dipfit'...\n",
      "remote: Enumerating objects: 391, done.        \n",
      "remote: Counting objects: 100% (139/139), done.        \n",
      "remote: Compressing objects: 100% (80/80), done.        \n",
      "remote: Total 391 (delta 89), reused 101 (delta 58), pack-reused 252        \n",
      "Receiving objects: 100% (391/391), 12.47 MiB | 6.11 MiB/s, done.\n",
      "Resolving deltas: 100% (208/208), done.\n",
      "Cloning into '/home/adamico/cogs189wi23_fork/A2/eeglab/plugins/firfilt'...\n",
      "remote: Enumerating objects: 372, done.        \n",
      "remote: Counting objects: 100% (44/44), done.        \n",
      "remote: Compressing objects: 100% (38/38), done.        \n",
      "remote: Total 372 (delta 19), reused 13 (delta 5), pack-reused 328        \n",
      "Receiving objects: 100% (372/372), 113.09 KiB | 1.55 MiB/s, done.\n",
      "Resolving deltas: 100% (212/212), done.\n",
      "Cloning into '/home/adamico/cogs189wi23_fork/A2/eeglab/tutorial_scripts'...\n",
      "remote: Enumerating objects: 141, done.        \n",
      "remote: Counting objects: 100% (141/141), done.        \n",
      "remote: Compressing objects: 100% (108/108), done.        \n",
      "remote: Total 141 (delta 68), reused 105 (delta 32), pack-reused 0        \n",
      "Receiving objects: 100% (141/141), 3.82 MiB | 8.84 MiB/s, done.\n",
      "Resolving deltas: 100% (68/68), done.\n",
      "Submodule path 'plugins/ICLabel': checked out 'e3951b4081178f22e3934f4803a16a3cd131b191'\n",
      "Submodule 'matconvnet' (https://github.com/lucapton/matconvnet.git) registered for path 'plugins/ICLabel/matconvnet'\n",
      "Submodule 'viewprops' (https://github.com/lucapton/viewprops.git) registered for path 'plugins/ICLabel/viewprops'\n",
      "Cloning into '/home/adamico/cogs189wi23_fork/A2/eeglab/plugins/ICLabel/matconvnet'...\n",
      "remote: Enumerating objects: 12820, done.        \n",
      "remote: Total 12820 (delta 0), reused 0 (delta 0), pack-reused 12820        \n",
      "Receiving objects: 100% (12820/12820), 5.56 MiB | 8.32 MiB/s, done.\n",
      "Resolving deltas: 100% (9483/9483), done.\n",
      "Cloning into '/home/adamico/cogs189wi23_fork/A2/eeglab/plugins/ICLabel/viewprops'...\n",
      "remote: Enumerating objects: 129, done.        \n",
      "remote: Counting objects: 100% (15/15), done.        \n",
      "remote: Compressing objects: 100% (15/15), done.        \n",
      "remote: Total 129 (delta 5), reused 0 (delta 0), pack-reused 114        \n",
      "Receiving objects: 100% (129/129), 233.40 KiB | 1.70 MiB/s, done.\n",
      "Resolving deltas: 100% (71/71), done.\n",
      "Submodule path 'plugins/ICLabel/matconvnet': checked out '092ecb8c04031ddcb1d9a7ba6ebe76a250c4672c'\n",
      "Submodule path 'plugins/ICLabel/viewprops': checked out '9db7a1119a1d3da1ac0847f3ce3026842843e8fa'\n",
      "Submodule path 'plugins/clean_rawdata': checked out 'e7fd624ebc9f3b8353d2ba8ff654141a2ff3d95d'\n",
      "Submodule 'manopt' (https://github.com/NicolasBoumal/manopt.git) registered for path 'plugins/clean_rawdata/manopt'\n",
      "Cloning into '/home/adamico/cogs189wi23_fork/A2/eeglab/plugins/clean_rawdata/manopt'...\n",
      "remote: Enumerating objects: 8260, done.        \n",
      "remote: Counting objects: 100% (2021/2021), done.        \n",
      "remote: Compressing objects: 100% (718/718), done.        \n",
      "remote: Total 8260 (delta 1319), reused 1934 (delta 1256), pack-reused 6239        \n",
      "Receiving objects: 100% (8260/8260), 2.23 MiB | 5.64 MiB/s, done.\n",
      "Resolving deltas: 100% (5127/5127), done.\n",
      "Submodule path 'plugins/clean_rawdata/manopt': checked out '7d6101fa361b1c9f3918fd21ee3895999ad5a2a6'\n",
      "Submodule 'reference/m2html' (https://github.com/NicolasBoumal/m2html.git) registered for path 'plugins/clean_rawdata/manopt/reference/m2html'\n",
      "Cloning into '/home/adamico/cogs189wi23_fork/A2/eeglab/plugins/clean_rawdata/manopt/reference/m2html'...\n",
      "remote: Enumerating objects: 103, done.        \n",
      "remote: Total 103 (delta 0), reused 0 (delta 0), pack-reused 103        \n",
      "Receiving objects: 100% (103/103), 114.80 KiB | 940.00 KiB/s, done.\n",
      "Resolving deltas: 100% (30/30), done.\n",
      "Submodule path 'plugins/clean_rawdata/manopt/reference/m2html': checked out 'df2773f0b5aa2ca2a4b49bf6312c3c513b2f71e7'\n",
      "Submodule path 'plugins/dipfit': checked out '276c56da0aa98c601d76cf640f6d9e6d8bfc05a6'\n",
      "Submodule path 'plugins/firfilt': checked out '5f139988551c6b6551774d4e08c195f82331403c'\n",
      "Submodule path 'tutorial_scripts': checked out '873b6315de307abf5351db6c1d9d3bc7dd777e32'\n"
     ]
    }
   ],
   "source": [
    "![ ! -d './eeglab' ] && git clone --recursive --depth=1 https://github.com/sccn/eeglab.git"
   ]
  },
  {
   "cell_type": "markdown",
   "id": "c007127e",
   "metadata": {
    "kernel": "SoS"
   },
   "source": [
    "## Setup\n",
    "The code under here shouldn't be removed, but can be added to. Essentially it's just setting up our environment, loading libraries/toolboxes and getting things ready."
   ]
  },
  {
   "cell_type": "code",
   "execution_count": null,
   "id": "49495a32",
   "metadata": {
    "kernel": "Python3"
   },
   "outputs": [],
   "source": [
    "import numpy as np\n",
    "import matplotlib.pyplot as plt"
   ]
  },
  {
   "cell_type": "code",
   "execution_count": null,
   "id": "ab053c06",
   "metadata": {
    "kernel": "MATLAB"
   },
   "outputs": [],
   "source": [
    "imatlab_export_fig('print-png') % allows us to inline plot\n",
    "\n",
    "% EEGLAB is installed above in the 'Install EEGLAB' section.\n",
    "addpath(genpath('eeglab'));"
   ]
  },
  {
   "cell_type": "markdown",
   "id": "bfab41b6",
   "metadata": {
    "kernel": "MATLAB"
   },
   "source": [
    "Let's confirm that we're able to locate EEGLAB by executing the following command. If this doesn't work, please check Piazza/Canvas for solutions or to ask for help."
   ]
  },
  {
   "cell_type": "code",
   "execution_count": null,
   "id": "47b5ecdb",
   "metadata": {
    "kernel": "MATLAB"
   },
   "outputs": [],
   "source": [
    "eeg_getversion()"
   ]
  },
  {
   "cell_type": "markdown",
   "id": "17c5154e",
   "metadata": {
    "kernel": "MATLAB"
   },
   "source": [
    "You should see a version number. As of 23Jan23 this should return `'2022.1'`. If you see any version number you're ready to continue with the assignment!"
   ]
  },
  {
   "cell_type": "markdown",
   "id": "79487559",
   "metadata": {
    "kernel": "MATLAB"
   },
   "source": [
    "## Part 1: Loading the Data\n",
    "Load in the synthetic data `SynthData.set` using EEGLAB's `pop_loadset()` function. The EEG data collected was sampled at 500 Hz. For those unfamiliar: \n",
    "\n",
    "$Hz = \\frac{1}{second}$\n",
    "\n",
    "Which means we collect 500 points of data per second at a data collection rate of 500 Hz.\n",
    "This is referred to as the **sampling rate**, and is often denoted as: $F_s$ or $f_s$. EEGLAB stores this information under `EEG.srate`."
   ]
  },
  {
   "cell_type": "code",
   "execution_count": null,
   "id": "c1ef3104",
   "metadata": {
    "kernel": "MATLAB"
   },
   "outputs": [],
   "source": [
    "% Load data and use the EEG object to answer the following questions"
   ]
  },
  {
   "cell_type": "markdown",
   "id": "294f1027",
   "metadata": {
    "kernel": "MATLAB"
   },
   "source": [
    "#### Answer the following questions on Gradescope\n",
    "\n",
    "**Question 1:** How many channels are in this dataset?\n",
    "\n",
    "**Question 2:** What is the sampling rate of this dataset?\n",
    "\n",
    "**Question 3:** What is the duration of this dataset (to the nearest second)\n",
    "\n",
    "**Question 4:** Plot the first 1000 msec (1 sec) of data from every channel. Make sure the x-axis (time) is accurate. \n",
    "\n",
    "* Label your x-label as \"Time (ms)\" and y-axis as \"Amplitude (uV)\"\n",
    "\n",
    "* *(hint: Use EEG.data and EEG.times and be careful with the dimensions)*\n",
    "\n",
    "* *(you can simply plot such that all channels overlay each other)*\n",
    "\n",
    "* **Save your plot and upload it to Gradescope**"
   ]
  },
  {
   "cell_type": "code",
   "execution_count": null,
   "id": "23e8087f",
   "metadata": {
    "kernel": "MATLAB"
   },
   "outputs": [],
   "source": [
    "% You can use this cell to plot, or you can do it above."
   ]
  },
  {
   "cell_type": "markdown",
   "id": "0ebceca3",
   "metadata": {
    "kernel": "MATLAB",
    "slideshow": {
     "slide_type": "subslide"
    }
   },
   "source": [
    "## Part 2: Filtering\n",
    "The data we have is contaminated (intentionally) with high frequency noise. Let's isolate our main signal by utilizing a 30 Hz lowpass filter.\n",
    "\n",
    "For EEG data analysis, there are various decisions that need to be made when selecting an appropriate filter. All signals are corrupted by outside noise, and EEG data is particularly susceptible to noise from AC electronics, muscle movements, and skin conductance changes (sweat). Filtering allows us to get rid of some of the junk, but it is not magic. There is no substitute for collecting clean data. Filtering will also throw out some of the data we care about, and one of the goals is to minimize how much of the signal we are modifying.\n",
    "\n",
    "**Question 5:** Apply a 30 Hz FIR filter (using EEGLAB's `pop_eegfiltnew()`) and save the output to the `EEG` variable. Plot the filtered data using the same time window as Question 4.\n",
    "* *hint: refer to Week 2 Friday's lecture. Typing `pop_eegfiltnew()` will show you viable inputs*\n",
    "* **Save your plot and upload it to Gradescope**"
   ]
  },
  {
   "cell_type": "code",
   "execution_count": null,
   "id": "aec0b18a",
   "metadata": {
    "kernel": "MATLAB"
   },
   "outputs": [],
   "source": [
    "% Q5 answer here"
   ]
  },
  {
   "cell_type": "markdown",
   "id": "45230f47",
   "metadata": {
    "kernel": "MATLAB"
   },
   "source": [
    "## Part 3: Epoching\n",
    "We will now investigate the events we have in our dataset and epoch to these events.\n",
    "\n",
    "The events themselves can be found in `EEG.event`, which contains information about the type of event (`EEG.event.type`) and when the event ocurred (`EEG.event.latency`). In the case of our stimuli, the duration, which is the third field, will always be equal to `1`.\n",
    "\n",
    "It is good to note that the values stored in `EEG.event.latency` are indices of `EEG.times` and are not themselves temporal values.\n",
    "\n",
    "Let's explore the events with the following:\n",
    "\n",
    "*Hint: you can capture all of the events that are in `EEG.event.type` by putting them in a cell array via `x = {EEG.event.type}`*\n",
    "\n",
    "**Question 6:** What is the label of the very first event?\n",
    "\n",
    "**Question 7:** How many events are there in total?\n",
    "\n",
    "**Question 8:** How many unique events are there?"
   ]
  },
  {
   "cell_type": "code",
   "execution_count": null,
   "id": "98537f53",
   "metadata": {
    "kernel": "MATLAB"
   },
   "outputs": [],
   "source": [
    "% Answer Q6 -> 8 here"
   ]
  },
  {
   "cell_type": "markdown",
   "id": "ec06fcb8",
   "metadata": {
    "kernel": "MATLAB"
   },
   "source": [
    "In this case, the first marker is sent only one time and it serves as an indicator that recording has commenced. The remaining markers contain useful information as they represent a specific event occurring. We can extract the EEG activity relative to that information in a process known as binning, grouping, or epoching (which we'll use here).\n",
    "\n",
    "Epoching is the step of pre-processing where we segment the data into the chunks we care about. We are only interested in the brief periods of time the participant has seen the stimulus. When epoching data, we must decide how much data is worth keeping. Our data in this case are synthetic and not collected from an actual experiment. In reality, the nature of the experiment will determine the length of your epoch, but it's not uncommon to look at signals a few hundred milliseconds before event onset all the way out to 1000 milliseconds after onset.\n",
    "\n",
    "The window of time before the onset typically contains **baseline** information. Baseline activity should reflect task unrelated neurological activity that was can use to standardize each of our trials to. In traditional experiments, the baseline is often chosen during a time when participants are looking at a blank screen before they're presented with the next trial. Our synthetic example does not require baseline correction so we'll save that for next assignment.\n",
    "\n",
    "In order to explore our waveforms, we'll define an epoch with the following parameters:\n",
    "* Epoch start: 500 ms before event (stimulus) onset.\n",
    "* Epoch end: 1000 ms after stimulus onset.\n",
    "\n",
    "Once these parameters have been decided, we can epoch the data using the event codes using the function `pop_epoch()`"
   ]
  },
  {
   "cell_type": "markdown",
   "id": "5d09ca43",
   "metadata": {
    "kernel": "MATLAB"
   },
   "source": [
    "**Question 9:** Epoch the remaining events into their own variables (e.g. epoch0 and epoch1) after filling out the epoching parameters (take special note of the units). After you epoch, you ***must*** save the following data into these variables:\n",
    "* `epoch0_data`: should contain the `.data` from `epoch0`\n",
    "* `epoch1_data`: should contain the `.data` from `epoch1`\n",
    "* `epoch_times`: should contain the `.times` from EITHER `epoch0` or `epoch1` (the data are the same)\n",
    "\n",
    "After which, plot the first occurence of each epoched type in a plot and submit this. Plot only the first channel.\n",
    "\n",
    "**Save the plot and submit it as the answer to this question in Gradescope.**\n",
    "\n",
    "*note 1: the dimensionality of `epoch.data` is as follows: Number of channels $\\times$ Number of time points $\\times$ Number of epochs*\n",
    "\n",
    "*note 2: you can plot two traces on the same figure by using the command `hold on`*"
   ]
  },
  {
   "cell_type": "code",
   "execution_count": null,
   "id": "a953a961",
   "metadata": {
    "kernel": "MATLAB"
   },
   "outputs": [],
   "source": [
    "% Answer Q9 Here"
   ]
  },
  {
   "cell_type": "markdown",
   "id": "105b86d4",
   "metadata": {
    "kernel": "MATLAB"
   },
   "source": [
    "We're almost done! For the final piece of this assignment, we'll import the data into Python for plotting.\n",
    "\n",
    "Note: Subsequent assignments will utilize Python more."
   ]
  },
  {
   "cell_type": "markdown",
   "id": "6bd25ba6",
   "metadata": {
    "kernel": "MATLAB"
   },
   "source": [
    "**Question 10:** Transfer the necessary data over (i.e. your all of your `epoch0_data`, `epoch1_data`,  `epoch_times`) to Python using the `%get` magic and plot the data.\n",
    "\n",
    "**Save the plot and submit it as the answer to this question in Gradescope.**"
   ]
  },
  {
   "cell_type": "code",
   "execution_count": null,
   "id": "f91dcc12",
   "metadata": {
    "kernel": "Python3"
   },
   "outputs": [],
   "source": [
    "# Answer Q10 here!\n",
    "# Remember, we're in Python now. Index with [] and plot with plt.plot()\n",
    "# If epoch0_data and epoch1_data are not behaving well, you can cast them to numpy arrays with:\n",
    "# epoch0_data = np.array(epoch0_data)"
   ]
  }
 ],
 "metadata": {
  "kernelspec": {
   "display_name": "SoS",
   "language": "sos",
   "name": "sos"
  },
  "language_info": {
   "codemirror_mode": "sos",
   "file_extension": ".sos",
   "mimetype": "text/x-sos",
   "name": "sos",
   "nbconvert_exporter": "sos_notebook.converter.SoS_Exporter",
   "pygments_lexer": "sos"
  },
  "sos": {
   "kernels": [
    [
     "MATLAB",
     "imatlab",
     "MATLAB",
     "#8ee7f1",
     "octave"
    ],
    [
     "Python3",
     "python3",
     "Python3",
     "#FFD91A",
     {
      "name": "ipython",
      "version": 3
     }
    ],
    [
     "SoS",
     "sos",
     "",
     "",
     "sos"
    ]
   ],
   "panel": {
    "displayed": true,
    "height": 0
   },
   "version": "0.22.3"
  }
 },
 "nbformat": 4,
 "nbformat_minor": 5
}
