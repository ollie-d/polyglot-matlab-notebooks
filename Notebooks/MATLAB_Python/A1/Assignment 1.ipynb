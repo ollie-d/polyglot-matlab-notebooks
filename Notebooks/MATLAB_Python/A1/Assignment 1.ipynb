{
 "cells": [
  {
   "cell_type": "markdown",
   "id": "9a5395d9",
   "metadata": {
    "kernel": "SoS",
    "slideshow": {
     "slide_type": "subslide"
    }
   },
   "source": [
    "The primary purpose of this notebook is to introduce you to the Script of Script (SoS) notebook environment. Simply put, SoS allows us have a single notebook that can execute multiple subkernels. Think of a subkernel as a programming language and code for that language to interact with a notebook bundled together. For this course, we will be writing code in both MATLAB and Python.\n",
    "\n",
    "In order to execute MATLAB, we need to create a new cell and set the subkernel to MATLAB:"
   ]
  },
  {
   "cell_type": "markdown",
   "id": "c007127e",
   "metadata": {
    "kernel": "SoS"
   },
   "source": [
    "## Section 1: Introduction"
   ]
  },
  {
   "cell_type": "code",
   "execution_count": null,
   "id": "bbaac11b",
   "metadata": {
    "kernel": "MATLAB"
   },
   "outputs": [],
   "source": [
    "% This is a MATLAB cell\n",
    "x = pi"
   ]
  },
  {
   "cell_type": "markdown",
   "id": "9074fb55",
   "metadata": {
    "kernel": "MATLAB"
   },
   "source": [
    "The first time we run a MATLAB cell will take a while. This is because a MATLAB environment is being spawned. Depending on your configuration, you may also get a `DepreicationWarning`, but this will not be shown in subsequent cells:"
   ]
  },
  {
   "cell_type": "code",
   "execution_count": null,
   "id": "21b48bf5",
   "metadata": {
    "kernel": "MATLAB"
   },
   "outputs": [],
   "source": [
    "x = pi"
   ]
  },
  {
   "cell_type": "markdown",
   "id": "248c947e",
   "metadata": {
    "kernel": "MATLAB"
   },
   "source": [
    "You may notice that after executing this, there's a weird effect wherein the previous cell will also output its value. As a first MATLAB tip/reminder, use a semicolon to surpress outputs:"
   ]
  },
  {
   "cell_type": "code",
   "execution_count": null,
   "id": "9bada6c9",
   "metadata": {
    "kernel": "MATLAB"
   },
   "outputs": [],
   "source": [
    "x = pi;"
   ]
  },
  {
   "cell_type": "markdown",
   "id": "c8b947dc",
   "metadata": {
    "kernel": "MATLAB"
   },
   "source": [
    "Now we have a variable `x` in MATLAB storing the value of $\\pi$. If we try to interact with this in Python we won't be able to find it:"
   ]
  },
  {
   "cell_type": "code",
   "execution_count": null,
   "id": "bf04c44b",
   "metadata": {
    "kernel": "SoS"
   },
   "outputs": [],
   "source": [
    "x"
   ]
  },
  {
   "cell_type": "markdown",
   "id": "85aaca2f",
   "metadata": {
    "kernel": "Python3"
   },
   "source": [
    "This is because we have not yet transferred the variable between MATLAB -> Python. This is where SoS comes in to save the day."
   ]
  },
  {
   "cell_type": "code",
   "execution_count": null,
   "id": "8943807d",
   "metadata": {
    "kernel": "SoS"
   },
   "outputs": [],
   "source": [
    "%get x --from MATLAB\n",
    "x"
   ]
  },
  {
   "cell_type": "markdown",
   "id": "54d9d7ba",
   "metadata": {
    "kernel": "Python3"
   },
   "source": [
    "By using the magic `%get`, we're able to transfer variables from one subkernel to another. If we want to transfer multiple variables at a time, we can use the following syntax:"
   ]
  },
  {
   "cell_type": "code",
   "execution_count": null,
   "id": "07952cc8",
   "metadata": {
    "kernel": "SoS"
   },
   "outputs": [],
   "source": [
    "a = 'apple'\n",
    "b = -1.3j"
   ]
  },
  {
   "cell_type": "code",
   "execution_count": null,
   "id": "f0b90ebc",
   "metadata": {
    "kernel": "MATLAB"
   },
   "outputs": [],
   "source": [
    "%get a b --from SoS\n",
    "a\n",
    "b"
   ]
  },
  {
   "cell_type": "markdown",
   "id": "54dc2765",
   "metadata": {
    "kernel": "MATLAB"
   },
   "source": [
    "SoS is fairly robust and is able to transfer multi-dimensional data as well:"
   ]
  },
  {
   "cell_type": "code",
   "execution_count": null,
   "id": "2cb99de2",
   "metadata": {
    "kernel": "MATLAB"
   },
   "outputs": [],
   "source": [
    "X = [[1 2 3]; [4 5 6]; [7 8 9]];\n",
    "disp(X)\n",
    "disp(size(X))"
   ]
  },
  {
   "cell_type": "code",
   "execution_count": null,
   "id": "79d49536",
   "metadata": {
    "kernel": "SoS"
   },
   "outputs": [],
   "source": [
    "%get X --from MATLAB\n",
    "print(X)"
   ]
  },
  {
   "cell_type": "markdown",
   "id": "acb1d1ec",
   "metadata": {
    "kernel": "SoS"
   },
   "source": [
    "We can even send numpy arrays over to MATLAB:"
   ]
  },
  {
   "cell_type": "code",
   "execution_count": null,
   "id": "548a36f5",
   "metadata": {
    "kernel": "SoS"
   },
   "outputs": [],
   "source": [
    "import numpy as np\n",
    "A = np.array(X)"
   ]
  },
  {
   "cell_type": "code",
   "execution_count": null,
   "id": "4bfa7cbe",
   "metadata": {
    "kernel": "MATLAB"
   },
   "outputs": [],
   "source": [
    "%get A --from SoS\n",
    "disp(A)"
   ]
  },
  {
   "cell_type": "markdown",
   "id": "e605be6b",
   "metadata": {
    "kernel": "MATLAB"
   },
   "source": [
    "We can also generate plots in either subkernel! Note that the configuration of MATLAB inline plotting is slightly more complicated and opaque than Python plotting. Because of this, I tend to recommend doing important visualizations in Python."
   ]
  },
  {
   "cell_type": "code",
   "execution_count": null,
   "id": "0cee5578",
   "metadata": {
    "kernel": "MATLAB"
   },
   "outputs": [],
   "source": [
    "plot(1:1:10, 1:1:10)"
   ]
  },
  {
   "cell_type": "markdown",
   "id": "73e8a355",
   "metadata": {
    "kernel": "MATLAB"
   },
   "source": [
    "We can also utilize `matplotlib` in Python to generate plots:"
   ]
  },
  {
   "cell_type": "code",
   "execution_count": null,
   "id": "39f85bb5",
   "metadata": {
    "kernel": "SoS"
   },
   "outputs": [],
   "source": [
    "import matplotlib.pyplot as plt\n",
    "plt.plot(range(0, 10), range(0, 10))\n",
    "plt.show() # this is only required to suppress the plot handle from printing"
   ]
  },
  {
   "cell_type": "markdown",
   "id": "4d6439a4",
   "metadata": {
    "kernel": "Python3"
   },
   "source": [
    "One of the most import ant differences is that MATLAB is 1-indexed and Python is 0-indexed and that MATLAB uses parentheses to index (most of the time) while Python uses square brackets."
   ]
  },
  {
   "cell_type": "code",
   "execution_count": null,
   "id": "9c65ef8e",
   "metadata": {
    "kernel": "SoS"
   },
   "outputs": [],
   "source": [
    "X = [0, 1, 2, 3, 4, 5]\n",
    "print(X[0])\n",
    "print(X[1])"
   ]
  },
  {
   "cell_type": "code",
   "execution_count": null,
   "id": "a8d21a3d",
   "metadata": {
    "kernel": "MATLAB"
   },
   "outputs": [],
   "source": [
    "%get X --from SoS\n",
    "disp(X(0))"
   ]
  },
  {
   "cell_type": "markdown",
   "id": "f3130da4",
   "metadata": {
    "kernel": "Python3"
   },
   "source": [
    "When we index the value 0 we get an error since the smallest index is the smallest positive integer (1)."
   ]
  },
  {
   "cell_type": "code",
   "execution_count": null,
   "id": "587bbb57",
   "metadata": {
    "kernel": "MATLAB"
   },
   "outputs": [],
   "source": [
    "disp(X(1))"
   ]
  },
  {
   "cell_type": "markdown",
   "id": "9e81b04d",
   "metadata": {
    "kernel": "MATLAB"
   },
   "source": [
    "For loops are also different in both languages:"
   ]
  },
  {
   "cell_type": "code",
   "execution_count": null,
   "id": "1bc12e9a",
   "metadata": {
    "kernel": "SoS"
   },
   "outputs": [],
   "source": [
    "for i in range(len(X)):\n",
    "    print(X[i])"
   ]
  },
  {
   "cell_type": "code",
   "execution_count": null,
   "id": "c2309672",
   "metadata": {
    "kernel": "MATLAB"
   },
   "outputs": [],
   "source": [
    "for i = 1:length(X)\n",
    "    disp(X(i))\n",
    "end"
   ]
  },
  {
   "cell_type": "markdown",
   "id": "4069110a",
   "metadata": {
    "kernel": "MATLAB"
   },
   "source": [
    "And so are branches (if/else statements)"
   ]
  },
  {
   "cell_type": "code",
   "execution_count": null,
   "id": "b16a2a69",
   "metadata": {
    "kernel": "SoS"
   },
   "outputs": [],
   "source": [
    "if len(X) == 0:\n",
    "    print('X is empty')\n",
    "elif len(X) == 1:\n",
    "    print('X has a single entry')\n",
    "else:\n",
    "    print('X has many entries')"
   ]
  },
  {
   "cell_type": "code",
   "execution_count": null,
   "id": "0e7ba707",
   "metadata": {
    "kernel": "MATLAB"
   },
   "outputs": [],
   "source": [
    "if length(X) == 0\n",
    "    disp('X is empty')\n",
    "elseif length(X) == 1\n",
    "    disp('X has a single entry')\n",
    "else\n",
    "    disp('X has many entries')\n",
    "end"
   ]
  },
  {
   "cell_type": "markdown",
   "id": "6a5b0082",
   "metadata": {
    "kernel": "MATLAB"
   },
   "source": [
    "## Section 2: Hands-On Practice\n",
    "\n",
    "Now that you've seen some basic functionality of Python and MATLAB and how they interact, you'll start writing simple code and transferring data between both languages.\n",
    "\n",
    "It is recommended that you utilize search engines for questions about functionality you may not be familiar with in MATLAB/Python."
   ]
  },
  {
   "cell_type": "markdown",
   "id": "eba38db6",
   "metadata": {
    "kernel": "MATLAB"
   },
   "source": [
    "### Problem 1\n",
    "\n",
    "Write a for loop in MATLAB that iterates over the numbers 0 through 9 and stores all even numbers (including zero) in an array called `even` and all odd numbers in an array called `odd`."
   ]
  },
  {
   "cell_type": "code",
   "execution_count": null,
   "id": "84af0582",
   "metadata": {
    "kernel": "MATLAB"
   },
   "outputs": [],
   "source": [
    "% Problem 1 answer here"
   ]
  },
  {
   "cell_type": "markdown",
   "id": "eda4f405",
   "metadata": {
    "kernel": "MATLAB"
   },
   "source": [
    "### Problem 2\n",
    "\n",
    "In Python, load in `odd` and `even` and plot them using `plt.plot()` such that `odd` is on the x-axis and `even` is on the y-axis."
   ]
  },
  {
   "cell_type": "code",
   "execution_count": null,
   "id": "95c515e7",
   "metadata": {
    "kernel": "SoS"
   },
   "outputs": [],
   "source": [
    "# Problem 2 answer here (DELETE THIS COMMENT IF YOU NEED TO %get)"
   ]
  },
  {
   "cell_type": "markdown",
   "id": "a97cb5e8",
   "metadata": {
    "kernel": "Python3"
   },
   "source": [
    "### Problem 3\n",
    "\n",
    "In MATLAB, take the sine wave given to you named `y` and compute its (estimated) first derivative **using a for loop**. Save the result to a variable named `y_prime`. After computing `y_prime`, normalize it so that the maximum value is 1 and the minimum is -1.\n",
    "\n",
    "As a reminder, you can approximate the first derivative by subtracting sample $i$ from sample $i+1$. This means that `y_prime` will be 1 sample shorter than `y`.\n",
    "\n",
    "*Note: I recognize there are faster, more efficient, etc. ways to compute the first derivative. The goal is to force practicing a for loop. It's highly encouraged to check your answer against one of these other methods.*"
   ]
  },
  {
   "cell_type": "code",
   "execution_count": null,
   "id": "0ca82561",
   "metadata": {
    "kernel": "MATLAB"
   },
   "outputs": [],
   "source": [
    "% Don't delete this!\n",
    "fs = 1000.0;                           % Hz; sampling rate\n",
    "n_time = 1;                            % Seconds; length of signal\n",
    "time = linspace(0, n_time, n_time*fs); % List of seconds; time points of our data\n",
    "f = 10.0;                              % Hz; frequency of sine wave\n",
    "a = 1.0;                               % Amplitude of sine wave (arbitrary unit)\n",
    "\n",
    "y = a * sin(pi * 2 * f * time);        % Create our sine wave\n",
    "\n",
    "% Problem 3 answer here"
   ]
  },
  {
   "cell_type": "markdown",
   "id": "1b96e399",
   "metadata": {
    "kernel": "Python3"
   },
   "source": [
    "### Problem 4\n",
    "\n",
    "\n",
    "#### Problem 4.1\n",
    "In Python, use similar methods and logic in the cell for Problem 3 to create 1 second of a cosine wave with amplitude 1, sampling rate of 1000 Hz, and frequency of 10 Hz into a variable called `y_cos`. Also load in `y_prime`. \n",
    "\n",
    "#### Problem 4.2\n",
    "Once `y_cos` is created, plot `y_cos` and `y_prime` together. Make sure you still plot `time` as the x-axis. \n",
    "\n",
    "*Note: `y_cos` will have 1 more sample than y_prime. You can use any method you wish to plot `y_cos` as long as its time is aligned with `y_prime`. The goal is to visually compare the two signals and not the specific implementation.*"
   ]
  },
  {
   "cell_type": "code",
   "execution_count": null,
   "id": "06bdf045",
   "metadata": {
    "kernel": "SoS"
   },
   "outputs": [],
   "source": [
    "# These should have imported earlier, but we'll call them again here as reminders.\n",
    "import numpy as np\n",
    "import matplotlib.pyplot as plt"
   ]
  },
  {
   "cell_type": "code",
   "execution_count": null,
   "id": "f6b32eb1",
   "metadata": {
    "kernel": "SoS"
   },
   "outputs": [],
   "source": [
    "# Problem 4 answer here\n",
    "# Hint: putting np. prefix in front of a MATLAB function\n",
    "#       often works (e.g. sin, linspace...)"
   ]
  }
 ],
 "metadata": {
  "kernelspec": {
   "display_name": "SoS",
   "language": "sos",
   "name": "sos"
  },
  "language_info": {
   "codemirror_mode": "sos",
   "file_extension": ".sos",
   "mimetype": "text/x-sos",
   "name": "sos",
   "nbconvert_exporter": "sos_notebook.converter.SoS_Exporter",
   "pygments_lexer": "sos"
  },
  "sos": {
   "kernels": [
    [
     "MATLAB",
     "imatlab",
     "MATLAB",
     "#8ee7f1",
     "octave"
    ],
    [
     "SoS",
     "sos",
     "",
     "",
     "sos"
    ]
   ],
   "panel": {
    "displayed": false,
    "height": 0
   },
   "version": "0.24.0"
  }
 },
 "nbformat": 4,
 "nbformat_minor": 5
}
