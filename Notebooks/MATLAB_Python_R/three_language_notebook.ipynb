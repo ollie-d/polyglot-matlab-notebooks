{
 "cells": [
  {
   "cell_type": "markdown",
   "id": "87450f75",
   "metadata": {
    "kernel": "SoS"
   },
   "source": [
    "This is a simple test of a triple language SoS Notebook using MATLAB, Python and R.\n",
    "\n",
    "We'll be working with a synthetic dataset examining in `~/Notebooks/MATLAB_Python/A2`\n",
    "\n",
    "If you do not have EEGLAB downloaded, please run the first line in that notebook."
   ]
  },
  {
   "cell_type": "markdown",
   "id": "e8052e46",
   "metadata": {
    "kernel": "SoS"
   },
   "source": [
    "For the first part of the analysis, we'll load and filter our data in MATLAB"
   ]
  },
  {
   "cell_type": "code",
   "execution_count": null,
   "id": "3fd44e9f",
   "metadata": {
    "kernel": "MATLAB"
   },
   "outputs": [],
   "source": [
    "% EEGLAB is installed in the 'Install EEGLAB' section of ~/Notebooks/MATLAB_Python/A2\n",
    "addpath(genpath('../../eeglab'));\n",
    "eeglab nogui\n",
    "\n",
    "% Load our data\n",
    "EEG = pop_loadset('../MATLAB_Python/A2/SynthData.set');\n",
    "\n",
    "% Filter our data with an FIR bandpass\n",
    "lo_cut = 0.1; % Hz\n",
    "hi_cut = 15;  % Hz note:  this is a fairly low low-pass filter, use caution w/ real data\n",
    "EEG = pop_eegfiltnew(EEG, lo_cut, hi_cut);\n",
    "\n",
    "% Epoch our data into ERP_0 and ERP_1 from -200 to 1000 ms\n",
    "epoch_start = -0.2; % sec\n",
    "epoch_end   = 1;    % sec\n",
    "ERP_0 = pop_epoch(EEG, {'0'}, [epoch_start, epoch_end]);\n",
    "ERP_1 = pop_epoch(EEG, {'1'}, [epoch_start, epoch_end]); % note that 5th event is out of bounds"
   ]
  },
  {
   "cell_type": "markdown",
   "id": "a32e2c82",
   "metadata": {
    "kernel": "MATLAB"
   },
   "source": [
    "We'll now transfered our epoched EEG data stored in `EEG.data` to Python for plotting and computing windowed means. With a real dataset we might consider doing some machine learning at this step."
   ]
  },
  {
   "cell_type": "code",
   "execution_count": null,
   "id": "5609212b",
   "metadata": {
    "kernel": "SoS"
   },
   "outputs": [],
   "source": [
    "%get ERP_0.data --as ERP_0_data --from MATLAB\n",
    "%get ERP_1.data --as ERP_1_data --from MATLAB\n",
    "%get ERP_0.times --as ERP_times --from MATLAB\n",
    "\n",
    "import numpy as np\n",
    "import matplotlib.pyplot as plt\n",
    "\n",
    "# We'll compute the mean ERP for each trial to compute a t-test in R\n",
    "window_start = 0 # ms\n",
    "window_end   = 100  # ms\n",
    "\n",
    "# Let's convert these ms times into indices using `ERP_times`\n",
    "w_s = np.where(ERP_times == window_start)[0][0]\n",
    "w_e = np.where(ERP_times == window_end)[0][0]\n",
    "\n",
    "# Once imported, let's compute the grand averages\n",
    "ERP_0_GA = np.mean(ERP_0_data, -1)\n",
    "ERP_1_GA = np.mean(ERP_1_data, -1)\n",
    "\n",
    "# And plot them over each other (using only 1st channel; all channels are clones)\n",
    "plt.plot(ERP_times, ERP_0_GA[0, :], 'r', label=f'$ERP_0$')\n",
    "plt.plot(ERP_times, ERP_1_GA[0, :], 'b', label=f'$ERP_1$')\n",
    "y_min, y_max = plt.gca().get_ylim()\n",
    "plt.vlines([window_start, window_end], y_min, y_max, 'k', linestyle='dotted')\n",
    "plt.legend(loc='best')\n",
    "plt.title('Grand Averaged ERPs For Condition 0 and 1')\n",
    "plt.xlabel('Time (ms)')\n",
    "plt.ylabel('Amplitude ($\\mu V$)')\n",
    "plt.show()\n",
    "\n",
    "# Compute our ERP means\n",
    "means_0 = np.array([np.mean(ERP_0_data[0, w_s:w_e, i]) for i in range(ERP_0_data.shape[-1])])\n",
    "means_1 = np.array([np.mean(ERP_1_data[0, w_s:w_e, i]) for i in range(ERP_1_data.shape[-1])])"
   ]
  },
  {
   "cell_type": "markdown",
   "id": "e32b0d19",
   "metadata": {
    "kernel": "SoS"
   },
   "source": [
    "Finally we're ready to take the data into R and compute some simple statistics!\n",
    "\n",
    "*Note: "
   ]
  },
  {
   "cell_type": "code",
   "execution_count": 1,
   "id": "0c9af939",
   "metadata": {
    "kernel": "R"
   },
   "outputs": [
    {
     "ename": "ImportError",
     "evalue": "cannot import name 'Sequence' from 'collections' (C:\\Users\\H8801\\miniconda3\\envs\\sos\\lib\\collections\\__init__.py)",
     "output_type": "error",
     "traceback": [
      "\u001b[91mcannot import name 'Sequence' from 'collections' (C:\\Users\\H8801\\miniconda3\\envs\\sos\\lib\\collections\\__init__.py)\u001b[0m"
     ]
    }
   ],
   "source": [
    "x <- 1"
   ]
  }
 ],
 "metadata": {
  "kernelspec": {
   "display_name": "SoS",
   "language": "sos",
   "name": "sos"
  },
  "language_info": {
   "codemirror_mode": "sos",
   "file_extension": ".sos",
   "mimetype": "text/x-sos",
   "name": "sos",
   "nbconvert_exporter": "sos_notebook.converter.SoS_Exporter",
   "pygments_lexer": "sos"
  },
  "sos": {
   "kernels": [
    [
     "MATLAB",
     "matlab",
     "MATLAB",
     "#8ee7f1",
     "octave"
    ],
    [
     "R",
     "ir",
     "R",
     "",
     ""
    ],
    [
     "SoS",
     "sos",
     "",
     "",
     "sos"
    ]
   ],
   "panel": {
    "displayed": false,
    "height": 0
   },
   "version": "0.24.0"
  }
 },
 "nbformat": 4,
 "nbformat_minor": 5
}
