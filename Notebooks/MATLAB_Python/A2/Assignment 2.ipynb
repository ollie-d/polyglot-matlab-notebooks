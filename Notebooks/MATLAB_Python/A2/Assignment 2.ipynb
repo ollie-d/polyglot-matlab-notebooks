{
 "cells": [
  {
   "cell_type": "markdown",
   "id": "9a5395d9",
   "metadata": {
    "kernel": "SoS"
   },
   "source": [
    "The main purpose of this assignment is to guide you through navigating EEGLAB. We will load data, filter data and plot our results. Throughout this assignment, you will be asked questions. These questions will be answered with the accompanying Gradescope assignment. This assignment was created in a way that you should answer each question as it is presented to you. Please do not forget to submit every answer independently within Gradescope to ensure you do not lose any of your work."
   ]
  },
  {
   "cell_type": "markdown",
   "id": "09248c9b",
   "metadata": {
    "kernel": "MATLAB"
   },
   "source": [
    "## Install EEGLAB\n",
    "We only need to do this one time, but let's install EEGLAB. EEGLAB is the most widely used/cited toolbox for EEG processing. It is written in MATLAB, although it does have a standalone port. Individual EEGLAB functions can be executed through Python vi direct interfacing between MATLAB and Python, however, if one is using an existing analysis downloaded from the internet or generated through `eegh`, it's more feasible to run the code in a MATLAB cell as opposed to translating the code to incorporate `.eng()` calls.\n",
    "\n",
    "Execute the following line of code:"
   ]
  },
  {
   "cell_type": "code",
   "execution_count": null,
   "id": "ea1b40e2",
   "metadata": {
    "kernel": "SoS",
    "scrolled": true
   },
   "outputs": [],
   "source": [
    "# Only run this once!\n",
    "!git clone --recursive --depth=1 \"https://github.com/sccn/eeglab.git\""
   ]
  },
  {
   "cell_type": "markdown",
   "id": "c007127e",
   "metadata": {
    "kernel": "SoS"
   },
   "source": [
    "## Setup\n",
    "The code under here shouldn't be removed, but can be added to. Essentially it's just setting up our environment, loading libraries/toolboxes and getting things ready."
   ]
  },
  {
   "cell_type": "code",
   "execution_count": null,
   "id": "49495a32",
   "metadata": {
    "kernel": "SoS"
   },
   "outputs": [],
   "source": [
    "import numpy as np\n",
    "import matplotlib.pyplot as plt"
   ]
  },
  {
   "cell_type": "code",
   "execution_count": null,
   "id": "ab053c06",
   "metadata": {
    "kernel": "MATLAB"
   },
   "outputs": [],
   "source": [
    "% EEGLAB is installed above in the 'Install EEGLAB' section.\n",
    "addpath(genpath('eeglab'));"
   ]
  },
  {
   "cell_type": "markdown",
   "id": "bfab41b6",
   "metadata": {
    "kernel": "MATLAB"
   },
   "source": [
    "Let's confirm that we're able to locate EEGLAB by executing the following command. If this doesn't work, please make sure you have eeglab installed per the first cell and make sure MATLAB and Python are able to communicate (check README)."
   ]
  },
  {
   "cell_type": "code",
   "execution_count": null,
   "id": "47b5ecdb",
   "metadata": {
    "kernel": "MATLAB"
   },
   "outputs": [],
   "source": [
    "eeg_getversion()"
   ]
  },
  {
   "cell_type": "markdown",
   "id": "17c5154e",
   "metadata": {
    "kernel": "MATLAB"
   },
   "source": [
    "You should see a version number. This should return `'dev'`"
   ]
  },
  {
   "cell_type": "markdown",
   "id": "79487559",
   "metadata": {
    "kernel": "MATLAB"
   },
   "source": [
    "## Part 1: Loading the Data\n",
    "Load in the synthetic data `SynthData.set` using EEGLAB's `pop_loadset()` function. The EEG data collected was sampled at 500 Hz. For those unfamiliar: \n",
    "\n",
    "$Hz = \\frac{1}{second}$\n",
    "\n",
    "Which means we collect 500 points of data per second at a data collection rate of 500 Hz.\n",
    "This is referred to as the **sampling rate**, and is often denoted as: $F_s$ or $f_s$. EEGLAB stores this information under `EEG.srate`."
   ]
  },
  {
   "cell_type": "code",
   "execution_count": null,
   "id": "c1ef3104",
   "metadata": {
    "kernel": "MATLAB"
   },
   "outputs": [],
   "source": [
    "% Load data and use the EEG object to answer the following questions"
   ]
  },
  {
   "cell_type": "markdown",
   "id": "294f1027",
   "metadata": {
    "kernel": "MATLAB"
   },
   "source": [
    "#### Answer the following questions on Gradescope\n",
    "\n",
    "**Question 1:** How many channels are in this dataset?\n",
    "\n",
    "**Question 2:** What is the sampling rate of this dataset?\n",
    "\n",
    "**Question 3:** What is the duration of this dataset (to the nearest second)\n",
    "\n",
    "**Question 4:** Plot the first 1000 msec (1 sec) of data from every channel. Make sure the x-axis (time) is accurate. \n",
    "\n",
    "* Label your x-label as \"Time (ms)\" and y-axis as \"Amplitude (uV)\"\n",
    "\n",
    "* *(hint: Use EEG.data and EEG.times and be careful with the dimensions)*\n",
    "\n",
    "* *(you can simply plot such that all channels overlay each other)*"
   ]
  },
  {
   "cell_type": "code",
   "execution_count": null,
   "id": "23e8087f",
   "metadata": {
    "kernel": "MATLAB"
   },
   "outputs": [],
   "source": [
    "% You can use this cell to plot, or you can do it above."
   ]
  },
  {
   "cell_type": "markdown",
   "id": "0ebceca3",
   "metadata": {
    "kernel": "MATLAB",
    "slideshow": {
     "slide_type": "subslide"
    }
   },
   "source": [
    "## Part 2: Filtering\n",
    "The data we have is contaminated (intentionally) with high frequency noise. Let's isolate our main signal by utilizing a 30 Hz lowpass filter.\n",
    "\n",
    "For EEG data analysis, there are various decisions that need to be made when selecting an appropriate filter. All signals are corrupted by outside noise, and EEG data is particularly susceptible to noise from AC electronics, muscle movements, and skin conductance changes (sweat). Filtering allows us to get rid of some of the junk, but it is not magic. There is no substitute for collecting clean data. Filtering will also throw out some of the data we care about, and one of the goals is to minimize how much of the signal we are modifying.\n",
    "\n",
    "**Question 5:** Apply a 30 Hz FIR filter (using EEGLAB's `pop_eegfiltnew()`) and save the output to the `EEG` variable. Plot the filtered data using the same time window as Question 4.\n",
    "* Typing `pop_eegfiltnew()` will show you viable inputs"
   ]
  },
  {
   "cell_type": "code",
   "execution_count": null,
   "id": "aec0b18a",
   "metadata": {
    "kernel": "MATLAB"
   },
   "outputs": [],
   "source": [
    "% Q5 answer here"
   ]
  },
  {
   "cell_type": "markdown",
   "id": "45230f47",
   "metadata": {
    "kernel": "MATLAB"
   },
   "source": [
    "## Part 3: Epoching\n",
    "We will now investigate the events we have in our dataset and epoch to these events.\n",
    "\n",
    "The events themselves can be found in `EEG.event`, which contains information about the type of event (`EEG.event.type`) and when the event ocurred (`EEG.event.latency`). In the case of our stimuli, the duration, which is the third field, will always be equal to `1`.\n",
    "\n",
    "It is good to note that the values stored in `EEG.event.latency` are indices of `EEG.times` and are not themselves temporal values.\n",
    "\n",
    "Let's explore the events with the following:\n",
    "\n",
    "*Hint: you can capture all of the events that are in `EEG.event.type` by putting them in a cell array via `x = {EEG.event.type}`*\n",
    "\n",
    "**Question 6:** What is the label of the very first event?\n",
    "\n",
    "**Question 7:** How many events are there in total?\n",
    "\n",
    "**Question 8:** How many unique events are there?"
   ]
  },
  {
   "cell_type": "code",
   "execution_count": null,
   "id": "98537f53",
   "metadata": {
    "kernel": "MATLAB"
   },
   "outputs": [],
   "source": [
    "% Answer Q6 -> 8 here"
   ]
  },
  {
   "cell_type": "markdown",
   "id": "ec06fcb8",
   "metadata": {
    "kernel": "MATLAB"
   },
   "source": [
    "In this case, the first marker is sent only one time and it serves as an indicator that recording has commenced. The remaining markers contain useful information as they represent a specific event occurring. We can extract the EEG activity relative to that information in a process known as binning, grouping, or epoching (which we'll use here).\n",
    "\n",
    "Epoching is the step of pre-processing where we segment the data into the chunks we care about. We are only interested in the brief periods of time the participant has seen the stimulus. When epoching data, we must decide how much data is worth keeping. Our data in this case are synthetic and not collected from an actual experiment. In reality, the nature of the experiment will determine the length of your epoch, but it's not uncommon to look at signals a few hundred milliseconds before event onset all the way out to 1000 milliseconds after onset.\n",
    "\n",
    "The window of time before the onset typically contains **baseline** information. Baseline activity should reflect task unrelated neurological activity that was can use to standardize each of our trials to. In traditional experiments, the baseline is often chosen during a time when participants are looking at a blank screen before they're presented with the next trial. Our synthetic example does not require baseline correction so we'll save that for next assignment.\n",
    "\n",
    "In order to explore our waveforms, we'll define an epoch with the following parameters:\n",
    "* Epoch start: 500 ms before event (stimulus) onset.\n",
    "* Epoch end: 1000 ms after stimulus onset.\n",
    "\n",
    "Once these parameters have been decided, we can epoch the data using the event codes using the function `pop_epoch()`"
   ]
  },
  {
   "cell_type": "markdown",
   "id": "5d09ca43",
   "metadata": {
    "kernel": "MATLAB"
   },
   "source": [
    "**Question 9:** Epoch the remaining events into their own variables (e.g. epoch0 and epoch1) after filling out the epoching parameters (take special note of the units). After you epoch, you ***must*** save the following data into these variables:\n",
    "* `epoch0_data`: should contain the `.data` from `epoch0`\n",
    "* `epoch1_data`: should contain the `.data` from `epoch1`\n",
    "* `epoch_times`: should contain the `.times` from EITHER `epoch0` or `epoch1` (the data are the same)\n",
    "\n",
    "After which, plot the first occurence of each epoched type in a plot and submit this. Plot only the first channel.\n",
    "\n",
    "*note 1: the dimensionality of `epoch.data` is as follows: Number of channels $\\times$ Number of time points $\\times$ Number of epochs*\n",
    "\n",
    "*note 2: you can plot two traces on the same figure by using the command `hold on`*"
   ]
  },
  {
   "cell_type": "code",
   "execution_count": null,
   "id": "a953a961",
   "metadata": {
    "kernel": "MATLAB"
   },
   "outputs": [],
   "source": [
    "% Answer Q9 Here"
   ]
  },
  {
   "cell_type": "markdown",
   "id": "105b86d4",
   "metadata": {
    "kernel": "MATLAB"
   },
   "source": [
    "We're almost done! For the final piece of this assignment, we'll import the data into Python for plotting.\n",
    "\n",
    "Note: Subsequent assignments will utilize Python more."
   ]
  },
  {
   "cell_type": "markdown",
   "id": "6bd25ba6",
   "metadata": {
    "kernel": "MATLAB"
   },
   "source": [
    "**Question 10:** Transfer the necessary data over (i.e. your all of your `epoch0_data`, `epoch1_data`,  `epoch_times`) to Python using the `%get` magic and plot the data."
   ]
  },
  {
   "cell_type": "code",
   "execution_count": null,
   "id": "f91dcc12",
   "metadata": {
    "kernel": "SoS"
   },
   "outputs": [],
   "source": [
    "# Answer Q10 here!\n",
    "# Remember, we're in Python now. Index with [] and plot with plt.plot()\n",
    "# If epoch0_data and epoch1_data are not behaving well, you can cast them to numpy arrays with:\n",
    "# epoch0_data = np.array(epoch0_data)"
   ]
  }
 ],
 "metadata": {
  "kernelspec": {
   "display_name": "SoS",
   "language": "sos",
   "name": "sos"
  },
  "language_info": {
   "codemirror_mode": "sos",
   "file_extension": ".sos",
   "mimetype": "text/x-sos",
   "name": "sos",
   "nbconvert_exporter": "sos_notebook.converter.SoS_Exporter",
   "pygments_lexer": "sos"
  },
  "sos": {
   "kernels": [
    [
     "MATLAB",
     "imatlab",
     "MATLAB",
     "#8ee7f1",
     "octave"
    ],
    [
     "SoS",
     "sos",
     "",
     "",
     "sos"
    ]
   ],
   "panel": {
    "displayed": true,
    "height": 0
   },
   "version": "0.24.0"
  }
 },
 "nbformat": 4,
 "nbformat_minor": 5
}
